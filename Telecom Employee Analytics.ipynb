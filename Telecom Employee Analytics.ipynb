{
 "cells": [
  {
   "cell_type": "code",
   "execution_count": null,
   "id": "924c2cdd",
   "metadata": {},
   "outputs": [],
   "source": [
    "import pandas as pd\n",
    "import datetime\n",
    "pd.set_option('max_columns',1000)\n",
    "pd.set_option('display.max_rows', None)"
   ]
  },
  {
   "cell_type": "code",
   "execution_count": null,
   "id": "10c22ca5",
   "metadata": {},
   "outputs": [],
   "source": [
    "#Reading excel file\n",
    "df = pd.read_excel('employee_data.xlsx')"
   ]
  },
  {
   "cell_type": "code",
   "execution_count": null,
   "id": "5049e418",
   "metadata": {},
   "outputs": [],
   "source": [
    "#Getting unique ranks \n",
    "df[df['Assignment Status']=='ACTIVE'].Grade.unique()"
   ]
  },
  {
   "cell_type": "code",
   "execution_count": null,
   "id": "40271e9e",
   "metadata": {},
   "outputs": [],
   "source": [
    "#defining years \n",
    "years = [2019,2020,2021]"
   ]
  },
  {
   "cell_type": "code",
   "execution_count": null,
   "id": "8bf959a5",
   "metadata": {},
   "outputs": [],
   "source": [
    "#making new columns for better understanding\n",
    "for year in years: \n",
    "    df['start_male.'+str(year)] = ((df['Hire Date'] < pd.Timestamp(year,1,1)) & ((df['Last Working Date'] > pd.Timestamp(year,1,1)) | (df['Last Working Date'].isnull())) & (df['Gender']=='MALE')).astype(int)\n",
    "    df['end_male.'+str(year)] =   ((df['Hire Date'] < pd.Timestamp(year,12,31)) & ((df['Last Working Date'] > pd.Timestamp(year,12,31)) | (df['Last Working Date'].isnull())) & (df['Gender']=='MALE')).astype(int)\n",
    "    df['resignation_male.'+str(year)] = ((df['HR Status'] == 'RESIGNATION') & (df['Last Working Date'].dt.year == year)& (df['Gender']=='MALE')).astype(int)\n",
    "    df['termination_male.'+str(year)] = ((df['HR Status'] == 'TERMINATION') & (df['Last Working Date'].dt.year == year)& (df['Gender']=='MALE')).astype(int)\n",
    "    df['start_female.'+str(year)] = ((df['Hire Date'] < pd.Timestamp(year,1,1)) & ((df['Last Working Date'] > pd.Timestamp(year,1,1)) | (df['Last Working Date'].isnull())) & (df['Gender']=='FEMALE')).astype(int)\n",
    "    df['end_female.'+str(year)] =   ((df['Hire Date'] < pd.Timestamp(year,12,31)) & ((df['Last Working Date'] > pd.Timestamp(year,12,31)) | (df['Last Working Date'].isnull())) & (df['Gender']=='FEMALE')).astype(int)\n",
    "    df['resignation_female.'+str(year)] = ((df['HR Status'] == 'RESIGNATION') & (df['Last Working Date'].dt.year == year)& (df['Gender']=='FEMALE')).astype(int)\n",
    "    df['termination_female.'+str(year)] = ((df['HR Status'] == 'TERMINATION') & (df['Last Working Date'].dt.year == year)& (df['Gender']=='FEMALE')).astype(int)\n",
    "   "
   ]
  },
  {
   "cell_type": "code",
   "execution_count": null,
   "id": "37dfd022",
   "metadata": {},
   "outputs": [],
   "source": [
    "df.columns"
   ]
  },
  {
   "cell_type": "code",
   "execution_count": null,
   "id": "6701e28d",
   "metadata": {},
   "outputs": [],
   "source": [
    "df['resignation_female.2020'].sum()"
   ]
  },
  {
   "cell_type": "code",
   "execution_count": null,
   "id": "1729abed",
   "metadata": {},
   "outputs": [],
   "source": [
    "#Getting part of string\n",
    "gender_df = df.loc[:,'start_male.2019':]"
   ]
  },
  {
   "cell_type": "code",
   "execution_count": null,
   "id": "c0f0745a",
   "metadata": {},
   "outputs": [],
   "source": [
    "gender_df.head()"
   ]
  },
  {
   "cell_type": "code",
   "execution_count": null,
   "id": "a2605ad6",
   "metadata": {},
   "outputs": [],
   "source": [
    "#reseting index and maing dataframe\n",
    "year_gender_df = gender_df.sum().reset_index()"
   ]
  },
  {
   "cell_type": "code",
   "execution_count": null,
   "id": "61dfe74f",
   "metadata": {},
   "outputs": [],
   "source": [
    "year_gender_df.head(3)"
   ]
  },
  {
   "cell_type": "code",
   "execution_count": null,
   "id": "58d37ae3",
   "metadata": {},
   "outputs": [],
   "source": [
    "year_gender_df.columns = ['action', 'count']"
   ]
  },
  {
   "cell_type": "code",
   "execution_count": null,
   "id": "30986e28",
   "metadata": {},
   "outputs": [],
   "source": [
    "year_gender_df"
   ]
  },
  {
   "cell_type": "code",
   "execution_count": null,
   "id": "afd00b1c",
   "metadata": {},
   "outputs": [],
   "source": [
    "year_gender_df['year'] = year_gender_df['action'].apply(lambda x: x.split('.')[-1])\n",
    "year_gender_df['gender'] = year_gender_df['action'].apply(lambda x: x.split('.')[0])\n",
    "year_gender_df['gender'] = year_gender_df['gender'].apply(lambda x: x.split('_')[-1])\n",
    "year_gender_df"
   ]
  },
  {
   "cell_type": "code",
   "execution_count": null,
   "id": "3defccd1",
   "metadata": {},
   "outputs": [],
   "source": [
    "year_gender_df"
   ]
  },
  {
   "cell_type": "code",
   "execution_count": null,
   "id": "272c94d0",
   "metadata": {},
   "outputs": [],
   "source": [
    "#spliting on . and storing in new column\n",
    "year_gender_df['dimension'] = year_gender_df['action'].apply(lambda x: x.split('.')[-2])"
   ]
  },
  {
   "cell_type": "code",
   "execution_count": null,
   "id": "271f86f2",
   "metadata": {},
   "outputs": [],
   "source": [
    "year_gender_df"
   ]
  },
  {
   "cell_type": "code",
   "execution_count": null,
   "id": "13da2d8b",
   "metadata": {},
   "outputs": [],
   "source": [
    "#pivoting the data for better visual understaning\n",
    "pivot_df = pd.pivot(data = year_gender_df, index = 'year', columns = 'dimension',values = 'count')"
   ]
  },
  {
   "cell_type": "code",
   "execution_count": null,
   "id": "95eec418",
   "metadata": {},
   "outputs": [],
   "source": [
    "pivot_df"
   ]
  }
 ],
 "metadata": {
  "kernelspec": {
   "display_name": "Python 3",
   "language": "python",
   "name": "python3"
  },
  "language_info": {
   "codemirror_mode": {
    "name": "ipython",
    "version": 3
   },
   "file_extension": ".py",
   "mimetype": "text/x-python",
   "name": "python",
   "nbconvert_exporter": "python",
   "pygments_lexer": "ipython3",
   "version": "3.8.8"
  }
 },
 "nbformat": 4,
 "nbformat_minor": 5
}
